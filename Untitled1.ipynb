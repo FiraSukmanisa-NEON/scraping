{
 "cells": [
  {
   "cell_type": "markdown",
   "id": "9d1ddf31-d578-454c-bc81-7b1d82763b89",
   "metadata": {},
   "source": [
    "## Impor Request\n",
    "                 "
   ]
  },
  {
   "cell_type": "code",
   "execution_count": 1,
   "id": "e60aef97-732d-4f8b-bd01-d48cd34263fb",
   "metadata": {},
   "outputs": [
    {
     "name": "stdout",
     "output_type": "stream",
     "text": [
      "<Response [200]>\n"
     ]
    }
   ],
   "source": [
    "import requests\n",
    "import json\n",
    "\n",
    "url = 'http://192.168.40.39:8001/fira/get_contents'\n",
    "HEADERS = {\n",
    "'X-Api-Token': 'dev'\n",
    "}\n",
    "r = requests.get(url, headers = HEADERS)\n",
    "print(r)"
   ]
  },
  {
   "cell_type": "code",
   "execution_count": 2,
   "id": "de4463ea-7b93-4807-8a32-5298e537fc4b",
   "metadata": {},
   "outputs": [
    {
     "name": "stdout",
     "output_type": "stream",
     "text": [
      "200\n"
     ]
    }
   ],
   "source": [
    "print(r.status_code)\n",
    "data = r.json()"
   ]
  },
  {
   "cell_type": "markdown",
   "id": "b303a0eb-34bf-4e6a-8d0c-695070a1a59e",
   "metadata": {},
   "source": [
    "### Client API Get Content"
   ]
  },
  {
   "cell_type": "code",
   "execution_count": 3,
   "id": "84d601a9-6dc6-4d59-9ca5-428eb0c7a7ed",
   "metadata": {},
   "outputs": [
    {
     "name": "stdout",
     "output_type": "stream",
     "text": [
      "Menaker: Perlu adanya pendampingan pelatihan tenaga kerja di Mandalika\n",
      "Penerbit:  Antara\n",
      "Tanggal Terbit:  2022-01-27T05:33:57.000Z\n",
      "Penulis:  Zita Meirina\n",
      "Link Berita:  https://id.berita.yahoo.com/menaker-perlu-adanya-pendampingan-pelatihan-053357671.html\n",
      "==========\n",
      "Menteri Ketenagakerjaan (Menaker) Ida Fauziyah mengatakan perlu adanya pendampingan dan pelatihan guna menciptakan tenaga kerja yang kompeten di sektor pariwisata Mandalika. \"Perlunya penguatan dan pendampingan tenaga kerja yang bergerak di sektor pariwisata khususnya pelatihan digital dalam rangkaian promosi dan pengembangan wisata,\" kata Ida dalam keterangan tertulis Kemnaker yang diterima ANTARA di Jakarta, Kamis. Ida menuturkan dalam menyiapkan sumber daya manusia lokal yang unggul di daerah Lombok Tengah, para tenaga kerja harus memiliki spesifikasi dan kualifikasi yang bisa didapatkan dari sebuah pelatihan yang dibutuhkan oleh sebuah destinasi super prioritas wisata. Hal itu disebabkan karena sangat banyaknya jumlah peminat pekerja, namun keahliannya terkadang tak sesuai dengan yang dibutuhkan destinasi super prioritas seperti Mandalika tersebut.Menurut dia, para pekerja itu kemudian perlu mendapatkan sebuah pelatihan, baik yang dapat meningkatkan hard skill maupun soft skill yang mengacu pada kondisi terkini. Sehingga kemampuan mereka, nantinya dapat bersifat multitasking dan multiskilled. Guna memberikan dukungan pada Pemerintah Daerah Lombok Tengah untuk menyiapkan tenaga kerja yang kompeten sesuai dengan kebutuhan pasar kerja di Mandalika, pihaknya akan berkolaborasi dengan Kementerian Pariwisata dan Ekonomi Kreatif (Kemenparekraf) juga Kementerian Pendidikan dan Kebudayaan (Kemendikbud). Kolaborasi itu bertujuan untuk mengembangkan desa wisata dan wirausaha mandiri di sekitar Mandalika. Selain itu, Kemnaker juga membantu promosi dan partisipasi dari pelaku usaha swasta khususnya yang ada di destinasi super prioritas Mandalika. Bupati Lombok Tengah Lalu Pathul Bahri mengatakan jajarannya telah melakukan koordinasi dengan asosiasi perhotelan di Mandalika dalam menyiapkan tenaga kerja. Penyiapan tenaga kerja itu dilakukan melalui pelatihan-pelatihan yang dibuat bersama lembaga pelatihan seperti BLK Lombok Timur, Lembaga Pelatihan Kerja Swasta (LPKS), Asosiasi Industri Pariwisata, serta UMKM di wilayah Mandalika. \"Pelatihan-pelatihan tersebut, nantinya dikhususkan kepada pekerja perhotelan yang akan ditempatkan pada sejumlah hotel di Mandalika,\" kata Lalu.\n",
      "Link Gambar:  https://s.yimg.com/ny/api/res/1.2/1UjeQyqwf14b0avYNVAp9w--/YXBwaWQ9aGlnaGxhbmRlcjt3PTk2MDtoPTY0MA--/https://s.yimg.com/uu/api/res/1.2/NwVqMaJr6SqIdyE.XV.xtQ--~B/aD01MzM7dz04MDA7YXBwaWQ9eXRhY2h5b24-/https://media.zenfs.com/id/antara_original_130/6473b0d099d9fde4e8518e2a7a439f22\n",
      "****************************************************************************************************\n",
      "Menhan: Dua KRI dilelang karena tak layak pakai\n",
      "Penerbit:  Antara\n",
      "Tanggal Terbit:  2022-01-27T05:26:27.000Z\n",
      "Penulis:  Chandra Hamdani Noor\n",
      "Link Berita:  https://id.berita.yahoo.com/menhan-dua-kri-dilelang-karena-052627243.html\n",
      "==========\n",
      "Menteri Pertahanan Prabowo Subianto menyebutkan dua kapal perang (KRI) milik TNI Angkatan Laut, yakni KRI Teluk Mandar 514 dan KRI Teluk Penyu 513 akan dilelang karena sudah tidak layak pakai. \"Pada kesempatan ini akan kami sampaikan kronologis terkait permohonan penghapusan dengan mekanisme pemindahtanganan lelang dari KRI Teluk Penyu 513 buatan Korea tahun 1980 dan KRI Teluk Mandar 514 buatan Korea tahun 1980,\" kata Prabowo dalam Rapat Kerja dengan Komisi I DPR RI, di Gedung Parlemen, Jakarta, Kamis. Rapat yang membahas persetujuan penjualan Barang Milik Negara, KRI Teluk Mandar 514 dan KRI Teluk Penyu 513 pada Kementerian Pertahanan itu juga dihadiri Menkeu Sri Mulyani dan Kasal Laksamana TNI Yudo Margono. Menurut dia, TNI Angkatan Laut juga telah membentuk tim guna melakukan penelitian terhadap dua eks kapal perang tersebut. Hasilnya adalah rencana penjualan. \"Menindaklanjuti rencana penghapusan tersebut TNI AL telah membentuk tim penelitian,\" kata mantan Danjen Kopassus ini.  Baca juga: Menhan minta BPKP lakukan audit terkait Satelit Kemhan Menurut dia, secara teknis kondisi kapal sudah tidak layak untuk digunakan karena bangunan kapal banyak yang keropos. \"Secara teknis bahwa kondisi material tidak layak digunakan dan perpipaan banyak yang keropos,\" ungkap Prabowo. Bahkan, kondisi permesinan, kelistrikan dan peralatan navigasi sudah tidak bisa digunakan. Sehingga tidak efisien untuk bisa memperbaiki kerusakan yang ada. \"Permesinan, kelistrikan, peralatan navigasi komunikasi dan instrumen di anjungan sudah tidak bisa digunakan lagi. Kondisi platform tidak layak digunakan, serta tidak efisien untuk diperbaiki atau di-replacement,\" papar Prabowo. Dia menjelaskan tidak ada opsi untuk melakukan perbaikan, sehingga direkomendasikan ke Panglima TNI untuk dipindahtangankan dengan penjualan secara lelang. Nilai taksirannya limit jual atau lelang KRI Teluk Penyu 513 sebesar Rp4,91 miliar dengan nilai perolehan sebesar Rp121,03 miliar. Sementara KRI Teluk Mandar 514 nilai limit jual atau lelang sebesar Rp695 juta dengan nilai perolehan Rp121,90 miliar. \"Dengan menggarisbawahi bahwa kondisi KRI Teluk Penyu 513 dan KRI Teluk Mandar 514 rusak berat dan penghapusan ini tidak mengganggu tugas pokok dan fungsi TNI AL,\" tutur Prabowo.\n",
      "Link Gambar:  https://s.yimg.com/ny/api/res/1.2/ehIiHZ2d0H1ECyjrZD5sbw--/YXBwaWQ9aGlnaGxhbmRlcjt3PTk2MDtoPTY0MA--/https://s.yimg.com/uu/api/res/1.2/kLGJnWLg2aSAqezowVVHAg--~B/aD01MzM7dz04MDA7YXBwaWQ9eXRhY2h5b24-/https://media.zenfs.com/id/antara_original_130/71e94ac2b812fce17a27acdbe5c0f49a\n",
      "****************************************************************************************************\n"
     ]
    }
   ],
   "source": [
    "def show_content(data):\n",
    "    content = data['data'][:2]\n",
    "    for i in content:\n",
    "        print(i['title'])\n",
    "        print(\"Penerbit: \",i['news_provider'])\n",
    "        print(\"Tanggal Terbit: \",i['date_published'])\n",
    "        print(\"Penulis: \",i['author'])\n",
    "        print(\"Link Berita: \",i['link'])\n",
    "        print(\"=\"*10)\n",
    "        print(i['text'])\n",
    "        print(\"Link Gambar: \",i['image_url'])\n",
    "        print(\"*\"*100)\n",
    "        \n",
    "show_content(data)"
   ]
  },
  {
   "cell_type": "markdown",
   "id": "c5a03ba2-758d-47f0-bc27-9840e790d906",
   "metadata": {},
   "source": [
    "### Client API Save to DB"
   ]
  },
  {
   "cell_type": "code",
   "execution_count": 8,
   "id": "b710bbdd-e0a2-463a-be05-6ac9acd1e40c",
   "metadata": {},
   "outputs": [
    {
     "name": "stdout",
     "output_type": "stream",
     "text": [
      "403\n"
     ]
    }
   ],
   "source": [
    "\n",
    "api_url = 'http://192.168.40.39:8001/fira/save_to_db'\n",
    "headers = {\n",
    "    'X-Api-Token': 'dev'\n",
    "}\n",
    "y = requests.post(api_url, headers)\n",
    "print(y.status_code)\n"
   ]
  },
  {
   "cell_type": "markdown",
   "id": "930a76f9-c4ec-4744-9660-dc58c9cb3505",
   "metadata": {},
   "source": [
    "### Client API Update Author"
   ]
  },
  {
   "cell_type": "code",
   "execution_count": 14,
   "id": "7c4016ae-58b2-4535-bac1-4975de9fa72f",
   "metadata": {},
   "outputs": [
    {
     "name": "stdout",
     "output_type": "stream",
     "text": [
      "==Update Data Author==\n",
      "Data author tidak ada yang kosong\n"
     ]
    }
   ],
   "source": [
    "def update_author():\n",
    "    url = 'http://192.168.40.39:8001/fira/update_author'\n",
    "    headers = {\n",
    "        'X-Api-Token': 'dev'\n",
    "    }\n",
    "    r = requests.put(url, headers = headers)\n",
    "    data_request = r.json()\n",
    "    print(\"==Update Data Author==\")\n",
    "    if data_request['message'] == \"Data Tidak Ada\":\n",
    "        print(\"Data author tidak ada yang kosong\")\n",
    "    else:\n",
    "        print(\"Terdapat data author yang kosong, mengubah menjadi 'Unknown'...\")\n",
    "    \n",
    "update_author()"
   ]
  },
  {
   "cell_type": "markdown",
   "id": "c1e5fd49-174f-4760-b26a-00c78a8c57b7",
   "metadata": {},
   "source": [
    "### Client API Delete by News Provider (Publisher)"
   ]
  },
  {
   "cell_type": "code",
   "execution_count": 20,
   "id": "623d6d37-258f-4df7-932a-3d2f3646af55",
   "metadata": {},
   "outputs": [
    {
     "name": "stdout",
     "output_type": "stream",
     "text": [
      "{'status': 404, 'message': 'News Provider Tidak Ditemukan', 'data': []}\n"
     ]
    }
   ],
   "source": [
    "def delete_by_provider(news_provider):\n",
    "    url = f'http://192.168.40.39:8001/fira/delete_publisher'\n",
    "    headers = {\n",
    "        'X-Api-Token': 'dev'\n",
    "    }\n",
    "    r = requests.delete(f'{url}?{news_provider}', headers = headers)\n",
    "    data = r.json()\n",
    "    if data['status'] == 404:\n",
    "        print(\"News Provider Tidak Ada\")\n",
    "    elif data['status'] == 200:\n",
    "        print(\"Data\"\n",
    "    print(r.json())\n",
    "delete_by_provider(\"sasa\")"
   ]
  },
  {
   "cell_type": "code",
   "execution_count": null,
   "id": "13ec91a0-be38-4353-9ffc-6186a6a09618",
   "metadata": {},
   "outputs": [],
   "source": []
  }
 ],
 "metadata": {
  "kernelspec": {
   "display_name": "Python 3 (ipykernel)",
   "language": "python",
   "name": "python3"
  },
  "language_info": {
   "codemirror_mode": {
    "name": "ipython",
    "version": 3
   },
   "file_extension": ".py",
   "mimetype": "text/x-python",
   "name": "python",
   "nbconvert_exporter": "python",
   "pygments_lexer": "ipython3",
   "version": "3.9.7"
  }
 },
 "nbformat": 4,
 "nbformat_minor": 5
}
